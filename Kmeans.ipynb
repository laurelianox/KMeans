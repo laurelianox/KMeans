{
 "cells": [
  {
   "cell_type": "markdown",
   "id": "09000cc9",
   "metadata": {},
   "source": [
    "# <span style=\"color:blue\"> KMeans (aprendizado não supervisionado) </span>\n",
    " É utilizado para:\n",
    "- segmentação do mercado;\n",
    "- agrupamento de clientes em potencial\n",
    "- agrupamento de caracteristicas de clientes \n",
    "- produtos mais similares\n",
    "- agrupar perfis de clientes \n",
    "\n",
    "Abaixo, em azul, foram os usados nesta prática\n",
    "\n",
    "**PARAMETROS**: KMeans(parametro)\n",
    "- <span style=\"color:blue\"> **n_clusters**: int, default = 8 </span>\n",
    "\n",
    "- **n_init** (é o numero de vezes que o algoritmo KMeans irá correr com diferentes tipos de centróides): int, default = 10\n",
    "\n",
    "- **max_iter** (numero máximo de iterações que o algoritmo faz em um unico processamento): init, default = 300\n",
    "\n",
    "- **tol (tolerancia)**: float, default = 1e-4\n",
    "\n",
    "- **verbose (mode verbosidade)**: int, default = 0\n",
    "\n",
    "- <span style=\"color:blue\">**random_state** :determina um numero de randomico para gerar o centroide </span>\n",
    "\n",
    "Quando os parametros não são determinados, os valores default é que são utilizados.\n",
    "\n",
    "\n",
    "**ATRIBUTOS:** KMeans.atributos\n",
    "- <span style=\"color:blue\">**cluster_centers_** : coordenadas do centro do cluster </span>\n",
    "\n",
    "- **labels_**: rotulos/legendas de cada ponto\n",
    "\n",
    "- <span style=\"color:blue\">**inertia_**: a soma do quadrado das distancias das amostras mais pertas dos centroides do cluster </span>\n",
    "\n",
    "- **n_iter**: numero de iterações\n",
    "\n",
    "- **n_features_in**: número de recursos vistos durante o ajuste\n",
    "\n",
    "- **feature_name_in**: nome dos recursos\n",
    "\n",
    "\n",
    "**METODOS**: KMeans.metodos\n",
    "- <span style=\"color:blue\">**.fit(x,[y, sample_weight])**: calcula os clusters </span>\n",
    "\n",
    "- <span style=\"color:blue\">**.fit_prediction(x,[y, sample_weight])**: calcula os centróides</span>\n",
    "\n",
    "- **.fit_transform(x,[y, sample_weight])**: calcula e transforma x em espaço de distancia\n",
    "\n",
    "- **.get_feature_names_out(x,[y, sample_weight])**: nomes de recursos de saída para transformação\n",
    "\n",
    "- **.get_parameters(x,[y, sample_weight])**: obtém os parametros para o algoritmo\n",
    "\n",
    "- **.predict(x,[y, sample_weight])**: prever o agrupamento mais próximo ao qual cada amostra em 'x'pertence\n",
    "\n",
    "- **.score(x,[y, sample_weight])**: oposto do valor de x\n",
    "\n",
    "- **.set_params(x,[y, sample_weight])**: define os parametros\n",
    "\n",
    "- **.transform(x)**: transforma 'x' em um espaço de distancia do cluster\n"
   ]
  },
  {
   "cell_type": "markdown",
   "id": "3136969a",
   "metadata": {},
   "source": [
    "## Quais são as bibliotecas necessárias ?\n",
    "Se for necessário instalar um biblioteca o comando é: **!pip install [nome biblioteca]**"
   ]
  },
  {
   "cell_type": "code",
   "execution_count": null,
   "id": "ba51ab31",
   "metadata": {},
   "outputs": [],
   "source": [
    "import pandas as pd #biblioteca para manipulação e análise de dados\n",
    "import numpy as np #biblioteca para trabalhar arrays\n",
    "import plotly.express as px  #biblioteca para a visualização dos dados\n",
    "import plotly. graph_objects as go #biblioteca para criar gráficos\n",
    "from sklearn.preprocessing import StandardScaler #para padronização dos dados\n",
    "from sklearn.cluster import KMeans"
   ]
  },
  {
   "cell_type": "markdown",
   "id": "ffa7c381",
   "metadata": {},
   "source": [
    "Agora faremos a importação do nosso arquivo.\n",
    "Lembrete: \n",
    "1. As barras invertidas (\\\\) devem ser duplas, no \"caminho\" do arquivo;\n",
    "2. Verifique qual é o tipo de arquivo. Para cada tipo, há um pd.read;\n",
    "3. Em caso de arquivo .csv, verificar qual é o separador e encoding."
   ]
  },
  {
   "cell_type": "code",
   "execution_count": null,
   "id": "35866004",
   "metadata": {},
   "outputs": [],
   "source": [
    "base = pd.read_csv('base_iris.csv', sep = ';')"
   ]
  },
  {
   "cell_type": "markdown",
   "id": "364250f5",
   "metadata": {},
   "source": [
    "Agora vamos ver o dataframe e ver alguns comandos de visualização e estatistica."
   ]
  },
  {
   "cell_type": "code",
   "execution_count": null,
   "id": "39cc67a0",
   "metadata": {},
   "outputs": [],
   "source": [
    "base.head() #mostra o df"
   ]
  },
  {
   "cell_type": "code",
   "execution_count": null,
   "id": "878dec14",
   "metadata": {},
   "outputs": [],
   "source": [
    "base.shape #mostra a quantidade de linhas e de colunas"
   ]
  },
  {
   "cell_type": "code",
   "execution_count": null,
   "id": "a31afbe4",
   "metadata": {},
   "outputs": [],
   "source": [
    "base['Class'].unique() #Através do nome da coluna no df, ele retorna os valores únicos."
   ]
  },
  {
   "cell_type": "code",
   "execution_count": null,
   "id": "cd727606",
   "metadata": {},
   "outputs": [],
   "source": [
    "base.describe() #mostra as estatisticas dos dados"
   ]
  },
  {
   "cell_type": "markdown",
   "id": "4ec241de",
   "metadata": {},
   "source": [
    "# PETALAS"
   ]
  },
  {
   "cell_type": "markdown",
   "id": "89597a07",
   "metadata": {},
   "source": [
    "# Realizando agrupamento pelas petalas"
   ]
  },
  {
   "cell_type": "code",
   "execution_count": null,
   "id": "b9975866",
   "metadata": {},
   "outputs": [],
   "source": [
    "x = base.iloc[:, [2,3]].values\n",
    "\"\"\" .iloc é um localizador baseado no indexador de posição ':' significa que ele vai pegar todos os registros\n",
    "'[2,3]' significa em quais colunas que ele deve buscar e .values retorna uma array\n",
    "\"\"\"\n",
    "x[:3]"
   ]
  },
  {
   "cell_type": "markdown",
   "id": "8623b57d",
   "metadata": {},
   "source": [
    "# Normalizando os dados\n",
    "Precisamos colocar os dados no mesmo padrão e na mesma escala, pois o Kmeans realiza os dados baseados na distancia.\n",
    "\n",
    "--------------\n",
    "\n",
    "### **class sklearn.preprocessing.StandardScaler(*, copy=True, with_mean=True, with_std=True)**\n",
    "\n",
    "Padronize recursos removendo a média e dimensionando para a variação da unidade.\n",
    "\n",
    "Documentation: https://scikit-learn.org/stable/modules/generated/sklearn.preprocessing.StandardScaler.html\n",
    "\n",
    "- fit_transform(X[, y]): Ajustar aos dados e transformá-los."
   ]
  },
  {
   "cell_type": "code",
   "execution_count": null,
   "id": "4be4b086",
   "metadata": {},
   "outputs": [],
   "source": [
    "normalizar = StandardScaler()\n",
    "x = normalizar.fit_transform(x)\n",
    "x[:3]"
   ]
  },
  {
   "cell_type": "markdown",
   "id": "dcea38db",
   "metadata": {},
   "source": [
    "# Calculando o número de Cluster\n",
    "Utilizaremos o metodo do cotovelo que nos auxilia no nº de cluster ideal.\n",
    "Faremos isso utilizando o WCSS.\n",
    "WCSS é a soma da distancia quadrada entre cada ponto e o centroide em um cluster"
   ]
  },
  {
   "cell_type": "code",
   "execution_count": null,
   "id": "0fcc9a1b",
   "metadata": {},
   "outputs": [],
   "source": [
    "wcss = [] #cria lista vazia\n",
    "for i in range(1,11):\n",
    "    kmeans = KMeans(n_clusters=i, random_state=0) #executa o KMeans\n",
    "    kmeans.fit(x) #realiza o treinamento\n",
    "    wcss.append(kmeans.inertia_) #adiciona na lista os valores de WCSS"
   ]
  },
  {
   "cell_type": "code",
   "execution_count": null,
   "id": "c778e4f4",
   "metadata": {},
   "outputs": [],
   "source": [
    "#Visualizando os valores de WCSS\n",
    "for i in range (len(wcss)):\n",
    "    print('Cluster:', i, '- Valor do Wcss', wcss[i])"
   ]
  },
  {
   "cell_type": "markdown",
   "id": "6eef4bd1",
   "metadata": {},
   "source": [
    "# Criando o gráfico do cotovelo"
   ]
  },
  {
   "cell_type": "code",
   "execution_count": null,
   "id": "17d604d8",
   "metadata": {},
   "outputs": [],
   "source": [
    "cotovelo = px.line(x= range(1,11), y= wcss)\n",
    "cotovelo.show()\n",
    "\n",
    "# No gráfico abaixo, nós temos que buscar o 'ultimo' cluster sem muita variação com o próximo.\n",
    "# Nesse caso, a quantidade ideal de cluster para nosso treinamento é 3.\n",
    "# Observe que a diferença entre x=3 e x=4 são minimas."
   ]
  },
  {
   "cell_type": "code",
   "execution_count": null,
   "id": "ea28c8d7",
   "metadata": {},
   "outputs": [],
   "source": [
    "# Sabendo qual é o nosso numero ideal de cluster, alteramos o n_clusters.\n",
    "kmeans = KMeans(n_clusters=3, random_state=0) #executa o KMeans\n",
    "label = kmeans.fit_predict(x) #calcular centros de cluster e prever o índice de cluster para cada amostra"
   ]
  },
  {
   "cell_type": "code",
   "execution_count": null,
   "id": "1595e2b7",
   "metadata": {},
   "outputs": [],
   "source": [
    "label"
   ]
  },
  {
   "cell_type": "code",
   "execution_count": null,
   "id": "3091eacc",
   "metadata": {},
   "outputs": [],
   "source": [
    "centroides = kmeans.cluster_centers_ #calcula as coordenadas nos centroides.\n",
    "centroides"
   ]
  },
  {
   "cell_type": "markdown",
   "id": "0bb8464e",
   "metadata": {},
   "source": [
    "# Gráfico de agrupamento"
   ]
  },
  {
   "cell_type": "code",
   "execution_count": null,
   "id": "f05a2434",
   "metadata": {},
   "outputs": [],
   "source": [
    "petala = px.scatter( x= x[:,0], y = x[:,1], color = label)\n",
    "center = px.scatter (x= centroides[:,0], y=centroides[:,1], size = [7,7,7])\n",
    "grafico = go.Figure (data = petala.data + center.data)\n",
    "grafico.show()"
   ]
  },
  {
   "cell_type": "markdown",
   "id": "97b4bf52",
   "metadata": {},
   "source": [
    "# SEPALAS"
   ]
  },
  {
   "cell_type": "code",
   "execution_count": null,
   "id": "ca9e86db",
   "metadata": {},
   "outputs": [],
   "source": [
    "s = base.iloc[:,[0,1]].values"
   ]
  },
  {
   "cell_type": "code",
   "execution_count": null,
   "id": "7078f0fc",
   "metadata": {},
   "outputs": [],
   "source": [
    "s[:3]"
   ]
  },
  {
   "cell_type": "markdown",
   "id": "ce1752f2",
   "metadata": {},
   "source": [
    "### Não precisa normalizar de novo"
   ]
  },
  {
   "cell_type": "code",
   "execution_count": null,
   "id": "f7020917",
   "metadata": {},
   "outputs": [],
   "source": [
    "# Cálculo de WCSS\n",
    "wcss_sep = []\n",
    "for i in range(1,11):\n",
    "    kmeans_s = KMeans(n_clusters=i, random_state=0)\n",
    "    kmeans_s.fit(s)\n",
    "    wcss_sep.append(kmeans_s.inertia_)"
   ]
  },
  {
   "cell_type": "code",
   "execution_count": null,
   "id": "e918c9d4",
   "metadata": {},
   "outputs": [],
   "source": [
    "for i in range(len(wcss_sep)):\n",
    "    print('Cluster:', i, 'valor do wcss:', wcss_sep[i])"
   ]
  },
  {
   "cell_type": "code",
   "execution_count": null,
   "id": "b65affcb",
   "metadata": {},
   "outputs": [],
   "source": [
    "# Gráfico do cotovelo\n",
    "cot = px.line(x= range(1,11), y = wcss_sep)\n",
    "cot.show()"
   ]
  },
  {
   "cell_type": "code",
   "execution_count": null,
   "id": "3c7b647f",
   "metadata": {},
   "outputs": [],
   "source": [
    "# Recalcular o Kmeans\n",
    "kmeans_s = KMeans(n_clusters=3, random_state=0)\n",
    "label_s =kmeans_s.fit_predict(s)\n",
    "label"
   ]
  },
  {
   "cell_type": "code",
   "execution_count": null,
   "id": "9b4e4496",
   "metadata": {},
   "outputs": [],
   "source": [
    "cent2 = kmeans_s.cluster_centers_\n",
    "cent2"
   ]
  },
  {
   "cell_type": "code",
   "execution_count": null,
   "id": "9c7f9406",
   "metadata": {},
   "outputs": [],
   "source": [
    "sepala = px.scatter( x= s[:,0], y = s[:,1], color = label_s)\n",
    "center2 = px.scatter (x= cent2[:,0], y=cent2[:,1], size = [7,7,7])\n",
    "grafico = go.Figure (data = sepala.data + center2.data)\n",
    "grafico.show()"
   ]
  },
  {
   "cell_type": "markdown",
   "id": "0e51a9a7",
   "metadata": {},
   "source": [
    "Original disponibilizado por Prof Leandro Lessa https://github.com/ProfLeandroLessa/FDA-material-video-aulas\n",
    "\n",
    "Implementos Lidiane Aureliano https://github.com/laurelianox"
   ]
  },
  {
   "cell_type": "code",
   "execution_count": null,
   "id": "d9ff07ec",
   "metadata": {},
   "outputs": [],
   "source": []
  }
 ],
 "metadata": {
  "kernelspec": {
   "display_name": "dados",
   "language": "python",
   "name": "dados"
  },
  "language_info": {
   "codemirror_mode": {
    "name": "ipython",
    "version": 3
   },
   "file_extension": ".py",
   "mimetype": "text/x-python",
   "name": "python",
   "nbconvert_exporter": "python",
   "pygments_lexer": "ipython3",
   "version": "3.9.13"
  }
 },
 "nbformat": 4,
 "nbformat_minor": 5
}
